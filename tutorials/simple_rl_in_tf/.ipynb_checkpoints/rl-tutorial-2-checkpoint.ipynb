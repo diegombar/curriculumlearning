{
 "cells": [
  {
   "cell_type": "markdown",
   "metadata": {},
   "source": [
    "# Simple Reinforcement Learning in Tensorflow Part 2: Policy Gradient Method\n",
    "This tutorial contains a simple example of how to build a policy-gradient based agent that can solve the CartPole problem. For more information, see this [Medium post](https://medium.com/@awjuliani/super-simple-reinforcement-learning-tutorial-part-2-ded33892c724#.mtwpvfi8b).\n",
    "\n",
    "For more Reinforcement Learning algorithms, including DQN and Model-based learning in Tensorflow, see my Github repo, [DeepRL-Agents](https://github.com/awjuliani/DeepRL-Agents). \n",
    "\n",
    "Parts of this tutorial are based on code by [Andrej Karpathy](https://gist.github.com/karpathy/a4166c7fe253700972fcbc77e4ea32c5) and [korymath](https://gym.openai.com/evaluations/eval_a0aVJrGSyW892vBM04HQA)."
   ]
  },
  {
   "cell_type": "code",
   "execution_count": 1,
   "metadata": {
    "collapsed": false
   },
   "outputs": [],
   "source": [
    "import numpy as np\n",
    "import _pickle as pickle\n",
    "import tensorflow as tf\n",
    "%matplotlib inline\n",
    "import matplotlib.pyplot as plt\n",
    "import math"
   ]
  },
  {
   "cell_type": "markdown",
   "metadata": {},
   "source": [
    "### Loading the CartPole Environment\n",
    "If you don't already have the OpenAI gym installed, use  `pip install gym` to grab it."
   ]
  },
  {
   "cell_type": "code",
   "execution_count": 2,
   "metadata": {
    "collapsed": false
   },
   "outputs": [
    {
     "name": "stderr",
     "output_type": "stream",
     "text": [
      "[2017-05-25 15:50:18,105] Making new env: CartPole-v0\n",
      "[2017-05-25 15:50:18,111] Creating monitor directory /tmp/cartpole-experiment-2\n"
     ]
    }
   ],
   "source": [
    "import gym\n",
    "from gym import wrappers\n",
    "env = gym.make('CartPole-v0')\n",
    "env = wrappers.Monitor(env, '/tmp/cartpole-experiment-3')\n"
   ]
  },
  {
   "cell_type": "markdown",
   "metadata": {},
   "source": [
    "What happens if we try running the environment with random actions? How well do we do? (Hint: not so well.)"
   ]
  },
  {
   "cell_type": "code",
   "execution_count": 3,
   "metadata": {
    "collapsed": false
   },
   "outputs": [
    {
     "name": "stderr",
     "output_type": "stream",
     "text": [
      "[2017-05-25 15:50:18,117] Starting new video recorder writing to /tmp/cartpole-experiment-2/openaigym.video.0.6266.video000000.mp4\n"
     ]
    },
    {
     "data": {
      "text/plain": [
       "array([-0.02121324, -0.02389514,  0.02740639,  0.01082757])"
      ]
     },
     "execution_count": 3,
     "metadata": {},
     "output_type": "execute_result"
    }
   ],
   "source": [
    "env.reset()\n",
    "# random_episodes = 0\n",
    "# reward_sum = 0\n",
    "# while random_episodes < 10:\n",
    "#     env.render()\n",
    "#     observation, reward, done, _ = env.step(np.random.randint(0,2))\n",
    "#     reward_sum += reward\n",
    "#     if done:\n",
    "#         random_episodes += 1\n",
    "#         print(\"Reward for this episode was:\",reward_sum)\n",
    "#         reward_sum = 0\n",
    "#         env.reset()"
   ]
  },
  {
   "cell_type": "markdown",
   "metadata": {},
   "source": [
    "The goal of the task is to achieve a reward of 200 per episode. For every step the agent keeps the pole in the air, the agent recieves a +1 reward. By randomly choosing actions, our reward for each episode is only a couple dozen. Let's make that better with RL!"
   ]
  },
  {
   "cell_type": "markdown",
   "metadata": {},
   "source": [
    "### Setting up our Neural Network agent\n",
    "This time we will be using a Policy neural network that takes observations, passes them through a single hidden layer, and then produces a probability of choosing a left/right movement. To learn more about this network, see [Andrej Karpathy's blog on Policy Gradient networks](http://karpathy.github.io/2016/05/31/rl/)."
   ]
  },
  {
   "cell_type": "code",
   "execution_count": 4,
   "metadata": {
    "collapsed": true
   },
   "outputs": [],
   "source": [
    "# hyperparameters\n",
    "H = 10 # number of hidden layer neurons\n",
    "batch_size = 5 # every how many episodes to do a param update?\n",
    "learning_rate = 1e-2 # feel free to play with this to train faster or more stably.\n",
    "gamma = 0.99 # discount factor for reward\n",
    "\n",
    "D = 4 # input dimensionality"
   ]
  },
  {
   "cell_type": "code",
   "execution_count": 5,
   "metadata": {
    "collapsed": false
   },
   "outputs": [],
   "source": [
    "tf.reset_default_graph()\n",
    "\n",
    "#This defines the network as it goes from taking an observation of the environment to \n",
    "#giving a probability of chosing to the action of moving left or right.\n",
    "observations = tf.placeholder(tf.float32, [None,D] , name=\"input_x\")\n",
    "W1 = tf.get_variable(\"W1\", shape=[D, H],\n",
    "           initializer=tf.contrib.layers.xavier_initializer())\n",
    "layer1 = tf.nn.relu(tf.matmul(observations,W1))\n",
    "W2 = tf.get_variable(\"W2\", shape=[H, 1],\n",
    "           initializer=tf.contrib.layers.xavier_initializer())\n",
    "score = tf.matmul(layer1,W2)\n",
    "probability = tf.nn.sigmoid(score)\n",
    "\n",
    "#From here we define the parts of the network needed for learning a good policy.\n",
    "tvars = tf.trainable_variables()\n",
    "input_y = tf.placeholder(tf.float32,[None,1], name=\"input_y\")\n",
    "advantages = tf.placeholder(tf.float32,name=\"reward_signal\")\n",
    "\n",
    "# The loss function. This sends the weights in the direction of making actions \n",
    "# that gave good advantage (reward over time) more likely, and actions that didn't less likely.\n",
    "loglik = tf.log(input_y*(input_y - probability) + (1 - input_y)*(input_y + probability))\n",
    "loss = -tf.reduce_mean(loglik * advantages) \n",
    "newGrads = tf.gradients(loss,tvars)\n",
    "\n",
    "# Once we have collected a series of gradients from multiple episodes, we apply them.\n",
    "# We don't just apply gradeients after every episode in order to account for noise in the reward signal.\n",
    "adam = tf.train.AdamOptimizer(learning_rate=learning_rate) # Our optimizer\n",
    "W1Grad = tf.placeholder(tf.float32,name=\"batch_grad1\") # Placeholders to send the final gradients through when we update.\n",
    "W2Grad = tf.placeholder(tf.float32,name=\"batch_grad2\")\n",
    "batchGrad = [W1Grad,W2Grad]\n",
    "updateGrads = adam.apply_gradients(zip(batchGrad,tvars))"
   ]
  },
  {
   "cell_type": "markdown",
   "metadata": {},
   "source": [
    "### Advantage function\n",
    "This function allows us to weigh the rewards our agent recieves. In the context of the Cart-Pole task, we want actions that kept the pole in the air a long time to have a large reward, and actions that contributed to the pole falling to have a decreased or negative reward. We do this by weighing the rewards from the end of the episode, with actions at the end being seen as negative, since they likely contributed to the pole falling, and the episode ending. Likewise, early actions are seen as more positive, since they weren't responsible for the pole falling."
   ]
  },
  {
   "cell_type": "code",
   "execution_count": 6,
   "metadata": {
    "collapsed": true
   },
   "outputs": [],
   "source": [
    "def discount_rewards(r):\n",
    "    \"\"\" take 1D float array of rewards and compute discounted reward \"\"\"\n",
    "    discounted_r = np.zeros_like(r)\n",
    "    running_add = 0\n",
    "    for t in reversed(range(0, r.size)):\n",
    "        running_add = running_add * gamma + r[t]\n",
    "        discounted_r[t] = running_add\n",
    "    return discounted_r"
   ]
  },
  {
   "cell_type": "markdown",
   "metadata": {},
   "source": [
    "### Running the Agent and Environment"
   ]
  },
  {
   "cell_type": "markdown",
   "metadata": {},
   "source": [
    "Here we run the neural network agent, and have it act in the CartPole environment."
   ]
  },
  {
   "cell_type": "markdown",
   "metadata": {},
   "source": [
    "As you can see, the network not only does much better than random actions, but achieves the goal of 200 points per episode, thus solving the task!"
   ]
  },
  {
   "cell_type": "code",
   "execution_count": 7,
   "metadata": {
    "collapsed": false,
    "scrolled": true
   },
   "outputs": [
    {
     "name": "stdout",
     "output_type": "stream",
     "text": [
      "WARNING:tensorflow:From <ipython-input-7-bcb8ee677bcc>:6: initialize_all_variables (from tensorflow.python.ops.variables) is deprecated and will be removed after 2017-03-02.\n",
      "Instructions for updating:\n",
      "Use `tf.global_variables_initializer` instead.\n"
     ]
    },
    {
     "name": "stderr",
     "output_type": "stream",
     "text": [
      "[2017-05-25 15:50:19,548] From <ipython-input-7-bcb8ee677bcc>:6: initialize_all_variables (from tensorflow.python.ops.variables) is deprecated and will be removed after 2017-03-02.\n",
      "Instructions for updating:\n",
      "Use `tf.global_variables_initializer` instead.\n",
      "[2017-05-25 15:50:20,087] Starting new video recorder writing to /tmp/cartpole-experiment-2/openaigym.video.0.6266.video000001.mp4\n",
      "[2017-05-25 15:50:20,732] Starting new video recorder writing to /tmp/cartpole-experiment-2/openaigym.video.0.6266.video000008.mp4\n"
     ]
    },
    {
     "name": "stdout",
     "output_type": "stream",
     "text": [
      "Average reward for episode 12.600000.  Total average reward 12.600000.\n",
      "Average reward for episode 17.400000.  Total average reward 12.648000.\n",
      "Average reward for episode 16.400000.  Total average reward 12.685520.\n"
     ]
    },
    {
     "name": "stderr",
     "output_type": "stream",
     "text": [
      "[2017-05-25 15:50:21,600] Starting new video recorder writing to /tmp/cartpole-experiment-2/openaigym.video.0.6266.video000027.mp4\n"
     ]
    },
    {
     "name": "stdout",
     "output_type": "stream",
     "text": [
      "Average reward for episode 18.200000.  Total average reward 12.740665.\n",
      "Average reward for episode 16.200000.  Total average reward 12.775258.\n",
      "Average reward for episode 12.400000.  Total average reward 12.771506.\n",
      "Average reward for episode 15.000000.  Total average reward 12.793791.\n",
      "Average reward for episode 27.200000.  Total average reward 12.937853.\n",
      "Average reward for episode 13.000000.  Total average reward 12.938474.\n",
      "Average reward for episode 20.200000.  Total average reward 13.011089.\n",
      "Average reward for episode 23.600000.  Total average reward 13.116978.\n"
     ]
    },
    {
     "name": "stderr",
     "output_type": "stream",
     "text": [
      "[2017-05-25 15:50:22,719] Starting new video recorder writing to /tmp/cartpole-experiment-2/openaigym.video.0.6266.video000064.mp4\n"
     ]
    },
    {
     "name": "stdout",
     "output_type": "stream",
     "text": [
      "Average reward for episode 23.600000.  Total average reward 13.221809.\n",
      "Average reward for episode 20.000000.  Total average reward 13.289591.\n",
      "Average reward for episode 18.400000.  Total average reward 13.340695.\n",
      "Average reward for episode 17.400000.  Total average reward 13.381288.\n",
      "Average reward for episode 15.800000.  Total average reward 13.405475.\n",
      "Average reward for episode 16.800000.  Total average reward 13.439420.\n",
      "Average reward for episode 14.200000.  Total average reward 13.447026.\n",
      "Average reward for episode 18.400000.  Total average reward 13.496556.\n",
      "Average reward for episode 15.200000.  Total average reward 13.513590.\n",
      "Average reward for episode 20.600000.  Total average reward 13.584454.\n",
      "Average reward for episode 25.000000.  Total average reward 13.698610.\n",
      "Average reward for episode 20.400000.  Total average reward 13.765624.\n"
     ]
    },
    {
     "name": "stderr",
     "output_type": "stream",
     "text": [
      "[2017-05-25 15:50:24,463] Starting new video recorder writing to /tmp/cartpole-experiment-2/openaigym.video.0.6266.video000125.mp4\n"
     ]
    },
    {
     "name": "stdout",
     "output_type": "stream",
     "text": [
      "Average reward for episode 17.200000.  Total average reward 13.799967.\n",
      "Average reward for episode 19.000000.  Total average reward 13.851968.\n",
      "Average reward for episode 17.200000.  Total average reward 13.885448.\n",
      "Average reward for episode 22.400000.  Total average reward 13.970593.\n",
      "Average reward for episode 24.200000.  Total average reward 14.072888.\n",
      "Average reward for episode 25.400000.  Total average reward 14.186159.\n",
      "Average reward for episode 24.000000.  Total average reward 14.284297.\n",
      "Average reward for episode 22.800000.  Total average reward 14.369454.\n",
      "Average reward for episode 24.200000.  Total average reward 14.467760.\n",
      "Average reward for episode 24.800000.  Total average reward 14.571082.\n",
      "Average reward for episode 18.600000.  Total average reward 14.611371.\n",
      "Average reward for episode 23.400000.  Total average reward 14.699257.\n",
      "Average reward for episode 24.800000.  Total average reward 14.800265.\n",
      "Average reward for episode 23.600000.  Total average reward 14.888262.\n",
      "Average reward for episode 15.400000.  Total average reward 14.893380.\n",
      "Average reward for episode 30.000000.  Total average reward 15.044446.\n",
      "Average reward for episode 24.600000.  Total average reward 15.140001.\n",
      "Average reward for episode 18.800000.  Total average reward 15.176601.\n",
      "Average reward for episode 33.000000.  Total average reward 15.354835.\n",
      "Average reward for episode 20.000000.  Total average reward 15.401287.\n"
     ]
    },
    {
     "name": "stderr",
     "output_type": "stream",
     "text": [
      "[2017-05-25 15:50:27,460] Starting new video recorder writing to /tmp/cartpole-experiment-2/openaigym.video.0.6266.video000216.mp4\n"
     ]
    },
    {
     "name": "stdout",
     "output_type": "stream",
     "text": [
      "Average reward for episode 29.200000.  Total average reward 15.539274.\n",
      "Average reward for episode 34.800000.  Total average reward 15.731881.\n",
      "Average reward for episode 27.200000.  Total average reward 15.846563.\n",
      "Average reward for episode 25.800000.  Total average reward 15.946097.\n",
      "Average reward for episode 20.600000.  Total average reward 15.992636.\n",
      "Average reward for episode 32.200000.  Total average reward 16.154710.\n",
      "Average reward for episode 26.200000.  Total average reward 16.255162.\n",
      "Average reward for episode 20.800000.  Total average reward 16.300611.\n",
      "Average reward for episode 28.400000.  Total average reward 16.421605.\n",
      "Average reward for episode 33.400000.  Total average reward 16.591389.\n",
      "Average reward for episode 29.800000.  Total average reward 16.723475.\n",
      "Average reward for episode 21.000000.  Total average reward 16.766240.\n",
      "Average reward for episode 18.400000.  Total average reward 16.782578.\n",
      "Average reward for episode 19.800000.  Total average reward 16.812752.\n",
      "Average reward for episode 31.000000.  Total average reward 16.954624.\n",
      "Average reward for episode 35.200000.  Total average reward 17.137078.\n",
      "Average reward for episode 24.400000.  Total average reward 17.209707.\n",
      "Average reward for episode 35.200000.  Total average reward 17.389610.\n",
      "Average reward for episode 21.000000.  Total average reward 17.425714.\n",
      "Average reward for episode 27.800000.  Total average reward 17.529457.\n",
      "Average reward for episode 27.200000.  Total average reward 17.626162.\n",
      "Average reward for episode 44.000000.  Total average reward 17.889901.\n",
      "Average reward for episode 24.600000.  Total average reward 17.957002.\n",
      "Average reward for episode 39.000000.  Total average reward 18.167432.\n"
     ]
    },
    {
     "name": "stderr",
     "output_type": "stream",
     "text": [
      "[2017-05-25 15:50:32,336] Starting new video recorder writing to /tmp/cartpole-experiment-2/openaigym.video.0.6266.video000343.mp4\n"
     ]
    },
    {
     "name": "stdout",
     "output_type": "stream",
     "text": [
      "Average reward for episode 34.800000.  Total average reward 18.333757.\n",
      "Average reward for episode 43.400000.  Total average reward 18.584420.\n",
      "Average reward for episode 25.200000.  Total average reward 18.650576.\n",
      "Average reward for episode 38.200000.  Total average reward 18.846070.\n",
      "Average reward for episode 37.400000.  Total average reward 19.031609.\n",
      "Average reward for episode 40.000000.  Total average reward 19.241293.\n",
      "Average reward for episode 46.000000.  Total average reward 19.508880.\n",
      "Average reward for episode 41.800000.  Total average reward 19.731791.\n",
      "Average reward for episode 31.800000.  Total average reward 19.852474.\n",
      "Average reward for episode 48.400000.  Total average reward 20.137949.\n",
      "Average reward for episode 41.400000.  Total average reward 20.350569.\n",
      "Average reward for episode 35.600000.  Total average reward 20.503064.\n",
      "Average reward for episode 40.400000.  Total average reward 20.702033.\n",
      "Average reward for episode 35.400000.  Total average reward 20.849013.\n",
      "Average reward for episode 55.800000.  Total average reward 21.198523.\n",
      "Average reward for episode 33.200000.  Total average reward 21.318537.\n",
      "Average reward for episode 46.200000.  Total average reward 21.567352.\n",
      "Average reward for episode 32.800000.  Total average reward 21.679678.\n",
      "Average reward for episode 39.200000.  Total average reward 21.854882.\n",
      "Average reward for episode 33.600000.  Total average reward 21.972333.\n",
      "Average reward for episode 31.200000.  Total average reward 22.064609.\n",
      "Average reward for episode 45.600000.  Total average reward 22.299963.\n",
      "Average reward for episode 31.200000.  Total average reward 22.388964.\n",
      "Average reward for episode 35.200000.  Total average reward 22.517074.\n",
      "Average reward for episode 38.400000.  Total average reward 22.675903.\n",
      "Average reward for episode 53.400000.  Total average reward 22.983144.\n",
      "Average reward for episode 36.400000.  Total average reward 23.117313.\n",
      "Average reward for episode 40.000000.  Total average reward 23.286140.\n",
      "Average reward for episode 46.600000.  Total average reward 23.519278.\n",
      "Average reward for episode 35.800000.  Total average reward 23.642086.\n",
      "Average reward for episode 42.800000.  Total average reward 23.833665.\n",
      "Average reward for episode 49.600000.  Total average reward 24.091328.\n",
      "Average reward for episode 42.800000.  Total average reward 24.278415.\n",
      "501 Episodes completed.\n"
     ]
    }
   ],
   "source": [
    "xs,hs,dlogps,drs,ys,tfps = [],[],[],[],[],[]\n",
    "running_reward = None\n",
    "reward_sum = 0\n",
    "episode_number = 1\n",
    "total_episodes = 10000\n",
    "init = tf.initialize_all_variables()\n",
    "\n",
    "# Launch the graph\n",
    "with tf.Session() as sess:\n",
    "    rendering = False\n",
    "    sess.run(init)\n",
    "    observation = env.reset() # Obtain an initial observation of the environment\n",
    "\n",
    "    # Reset the gradient placeholder. We will collect gradients in \n",
    "    # gradBuffer until we are ready to update our policy network. \n",
    "    gradBuffer = sess.run(tvars)\n",
    "    for ix,grad in enumerate(gradBuffer):\n",
    "        gradBuffer[ix] = grad * 0\n",
    "    \n",
    "    while episode_number <= total_episodes:\n",
    "        \n",
    "        # Rendering the environment slows things down, \n",
    "        # so let's only look at it once our agent is doing a good job.\n",
    "#         if reward_sum/batch_size > 100 or rendering == True :\n",
    "        if True:\n",
    "            env.render(\"human\")\n",
    "            rendering = True\n",
    "            \n",
    "        # Make sure the observation is in a shape the network can handle.\n",
    "        x = np.reshape(observation,[1,D])\n",
    "        \n",
    "        # Run the policy network and get an action to take. \n",
    "        tfprob = sess.run(probability,feed_dict={observations: x})\n",
    "        action = 1 if np.random.uniform() < tfprob else 0\n",
    "        \n",
    "        xs.append(x) # observation\n",
    "        y = 1 if action == 0 else 0 # a \"fake label\"\n",
    "        ys.append(y)\n",
    "\n",
    "        # step the environment and get new measurements\n",
    "        observation, reward, done, info = env.step(action)\n",
    "        reward_sum += reward\n",
    "\n",
    "        drs.append(reward) # record reward (has to be done after we call step() to get reward for previous action)\n",
    "\n",
    "        if done: \n",
    "            episode_number += 1\n",
    "            # stack together all inputs, hidden states, action gradients, and rewards for this episode\n",
    "            epx = np.vstack(xs)\n",
    "            epy = np.vstack(ys)\n",
    "            epr = np.vstack(drs)\n",
    "            tfp = tfps\n",
    "            xs,hs,dlogps,drs,ys,tfps = [],[],[],[],[],[] # reset array memory\n",
    "\n",
    "            # compute the discounted reward backwards through time\n",
    "            discounted_epr = discount_rewards(epr)\n",
    "            # size the rewards to be unit normal (helps control the gradient estimator variance)\n",
    "            discounted_epr -= np.mean(discounted_epr)\n",
    "            discounted_epr /= np.std(discounted_epr)\n",
    "            \n",
    "            # Get the gradient for this episode, and save it in the gradBuffer\n",
    "            tGrad = sess.run(newGrads,feed_dict={observations: epx, input_y: epy, advantages: discounted_epr})\n",
    "            for ix,grad in enumerate(tGrad):\n",
    "                gradBuffer[ix] += grad\n",
    "                \n",
    "            # If we have completed enough episodes, then update the policy network with our gradients.\n",
    "            if episode_number % batch_size == 0: \n",
    "                sess.run(updateGrads,feed_dict={W1Grad: gradBuffer[0],W2Grad:gradBuffer[1]})\n",
    "                for ix,grad in enumerate(gradBuffer):\n",
    "                    gradBuffer[ix] = grad * 0\n",
    "                \n",
    "                # Give a summary of how well our network is doing for each batch of episodes.\n",
    "                running_reward = reward_sum if running_reward is None else running_reward * 0.99 + reward_sum * 0.01\n",
    "                print('Average reward for episode %f.  Total average reward %f.' % (reward_sum/batch_size, running_reward/batch_size))\n",
    "                \n",
    "                if reward_sum/batch_size > 200: \n",
    "                    print(\"Task solved in\",episode_number,'episodes!')\n",
    "                    break\n",
    "                    \n",
    "                reward_sum = 0\n",
    "            \n",
    "            observation = env.reset()\n",
    "\n",
    "print(episode_number,'Episodes completed.')\n"
   ]
  },
  {
   "cell_type": "code",
   "execution_count": 8,
   "metadata": {
    "collapsed": false
   },
   "outputs": [
    {
     "name": "stderr",
     "output_type": "stream",
     "text": [
      "[2017-05-25 15:50:40,253] Finished writing results. You can upload them to the scoreboard via gym.upload('/tmp/cartpole-experiment-2')\n",
      "[2017-05-25 15:50:40,256] [CartPole-v0] Uploading 500 episodes of training data\n",
      "[2017-05-25 15:50:42,037] [CartPole-v0] Uploading videos of 8 training episodes (20300 bytes)\n",
      "[2017-05-25 15:50:42,740] [CartPole-v0] Creating evaluation object from /tmp/cartpole-experiment-1 with learning curve and training video\n",
      "[2017-05-25 15:50:43,156] \n",
      "****************************************************\n",
      "You successfully uploaded your evaluation on CartPole-v0 to\n",
      "OpenAI Gym! You can find it at:\n",
      "\n",
      "    https://gym.openai.com/evaluations/eval_H3508FHCTe2Hs5owfFNNEg\n",
      "\n",
      "****************************************************\n"
     ]
    }
   ],
   "source": [
    "env.close()\n",
    "gym.upload('/tmp/cartpole-experiment-1', api_key='sk_WZ0h9zAS6e9BWgfvUeCsQ')\n"
   ]
  }
 ],
 "metadata": {
  "kernelspec": {
   "display_name": "Python 3",
   "language": "python",
   "name": "python3"
  },
  "language_info": {
   "codemirror_mode": {
    "name": "ipython",
    "version": 3
   },
   "file_extension": ".py",
   "mimetype": "text/x-python",
   "name": "python",
   "nbconvert_exporter": "python",
   "pygments_lexer": "ipython3",
   "version": "3.6.0"
  }
 },
 "nbformat": 4,
 "nbformat_minor": 0
}
